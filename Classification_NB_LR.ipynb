{
 "cells": [
  {
   "attachments": {},
   "cell_type": "markdown",
   "metadata": {},
   "source": [
    "# Movie Review Classification:"
   ]
  },
  {
   "cell_type": "code",
   "execution_count": 4,
   "metadata": {},
   "outputs": [],
   "source": [
    "# Importing necessary libraries\n",
    " \n",
    "import numpy as np\n",
    "import pandas as pd\n",
    "import matplotlib.pyplot as plt\n",
    "import seaborn as sns\n",
    "from bs4 import BeautifulSoup\n",
    "import re\n",
    "from nltk.stem import PorterStemmer\n",
    "from nltk.corpus import stopwords\n",
    "\n",
    "# Importing models\n",
    "\n",
    "from sklearn.linear_model import LogisticRegression # classification - Larger dataset\n",
    "from sklearn.naive_bayes import MultinomialNB # categorical input variables - Smaller dataset\n",
    "\n",
    "from sklearn.model_selection import train_test_split\n",
    "from sklearn.model_selection import  GridSearchCV # cross-validation\n",
    "from sklearn.metrics import  accuracy_score\n",
    "\n",
    "from sklearn.pipeline import Pipeline\n",
    "from sklearn.feature_extraction.text import TfidfVectorizer # word count; tf = term frequency\n",
    "from collections import Counter\n",
    "\n",
    "import warnings;\n",
    "warnings.filterwarnings('ignore')"
   ]
  },
  {
   "attachments": {},
   "cell_type": "markdown",
   "metadata": {},
   "source": [
    "## 1. Exploratory Data Analysis (EDA)\n",
    "- As we see below, it is a textual data with 50,000 rows and 2 columns: review and sentiment.\n",
    "- The task is to perform sentiment analysis on the data.\n",
    "- This will be a supervised binary text classification task as the data is labelled (sentiments) and textual (reviews). "
   ]
  },
  {
   "cell_type": "code",
   "execution_count": 5,
   "metadata": {},
   "outputs": [
    {
     "name": "stdout",
     "output_type": "stream",
     "text": [
      "(50000, 2)\n",
      "                                              review sentiment\n",
      "0  One of the other reviewers has mentioned that ...  positive\n",
      "1  A wonderful little production. <br /><br />The...  positive\n",
      "2  I thought this was a wonderful way to spend ti...  positive\n",
      "3  Basically there's a family where a little boy ...  negative\n",
      "4  Petter Mattei's \"Love in the Time of Money\" is...  positive\n"
     ]
    }
   ],
   "source": [
    "df_ = pd.read_csv('imdb.csv')\n",
    "df = df_.copy()\n",
    "\n",
    "# Shape = (rows, columns)\n",
    "\n",
    "print(df.shape)\n",
    "\n",
    "# Display the first 5 rows of the data\n",
    "\n",
    "print(df.head())"
   ]
  },
  {
   "attachments": {},
   "cell_type": "markdown",
   "metadata": {},
   "source": [
    "### Finding the NaN (missing values) and removing the duplicates so that our data is complete and unique."
   ]
  },
  {
   "cell_type": "code",
   "execution_count": 31,
   "metadata": {},
   "outputs": [
    {
     "name": "stdout",
     "output_type": "stream",
     "text": [
      "\n",
      " NaN counts of columns:\n",
      " review       0\n",
      "sentiment    0\n",
      "dtype: int64\n",
      "\n",
      " Shape of the unique dataset is:  (49573, 2)\n"
     ]
    }
   ],
   "source": [
    "def is_nan(df):\n",
    "    return df.isna().sum()\n",
    "\n",
    "# Removing duplicates\n",
    "\n",
    "def make_unique(df):\n",
    "    df_unique = df.drop_duplicates()\n",
    "    return(df_unique)\n",
    "\n",
    "print('\\n NaN counts of columns:\\n', is_nan(df))\n",
    "print('\\n Shape of the unique dataset is: ', make_unique(df).shape)"
   ]
  },
  {
   "attachments": {},
   "cell_type": "markdown",
   "metadata": {},
   "source": [
    "### The distribution of each label in the data as an unbalanced dataset.\n",
    "- It might cause false modelling if it's not handled accordingly."
   ]
  },
  {
   "cell_type": "code",
   "execution_count": 32,
   "metadata": {},
   "outputs": [
    {
     "name": "stdout",
     "output_type": "stream",
     "text": [
      "(49573, 2)\n"
     ]
    },
    {
     "data": {
      "text/plain": [
       "[Text(0.5, 1.0, 'Number of entries in each sentiment')]"
      ]
     },
     "execution_count": 32,
     "metadata": {},
     "output_type": "execute_result"
    },
    {
     "data": {
      "image/png": "[encoded data removed]",
      "text/plain": [
       "<Figure size 432x288 with 1 Axes>"
      ]
     },
     "metadata": {
      "needs_background": "light"
     },
     "output_type": "display_data"
    }
   ],
   "source": [
    "df = make_unique(df)\n",
    "print(df.shape)\n",
    "\n",
    "# Count Vs Sentiment\n",
    "\n",
    "ax = sns.countplot(x=df['sentiment'])\n",
    "ax.bar_label(ax.containers[0])\n",
    "ax.set(title='Number of entries in each sentiment')"
   ]
  },
  {
   "attachments": {},
   "cell_type": "markdown",
   "metadata": {},
   "source": [
    "### Text Preprocessing \n",
    "It will clean the data from unnecessary attributes of texts that does not help the classification algorithm.\n",
    "<br>  \n",
    "This preprocessing part will include 4 steps -\n",
    "- Get rid of HTML expression and any special characters.\n",
    "- Convert all letters to lower-case.\n",
    "- Get rid of stopwords: These are commonly used in a natural language yet are insignificant in terms of the context such as 'it', 'I' or 'an' etc. \n",
    "- Stemming: It will allow the words coming from the same root, such as happy and happier, to be understood as the same entity which in the end will result in better model performance. "
   ]
  },
  {
   "cell_type": "code",
   "execution_count": 11,
   "metadata": {},
   "outputs": [],
   "source": [
    "# Get stopwords and initialize stemmer - trimming down words to their stems\n",
    "\n",
    "stopwords = set(stopwords.words(\"english\"))\n",
    "ps = PorterStemmer()"
   ]
  },
  {
   "cell_type": "code",
   "execution_count": 33,
   "metadata": {},
   "outputs": [
    {
     "name": "stdout",
     "output_type": "stream",
     "text": [
      "review mention oz episod hook right exactli happen struck oz brutal unflinch violenc set right word trust faint heart timid pull punch regard drug sex violenc hardcor classic use word call oz nicknam given oswald maximum secur state penitentari focu mainli emerald citi experi section prison cell glass front face inward privaci high agenda em citi home mani aryan muslim gangsta latino christian italian irish scuffl death stare dodgi deal shadi agreement far away main appeal due fact goe dare forget pretti pictur paint mainstream audienc forget charm forget romanc oz mess around episod ever saw struck nasti surreal readi develop tast oz got accustom high level graphic violenc violenc injust crook guard sold nickel inmat kill order away manner middl class inmat turn prison bitch due lack street skill prison experi oz may becom comfort uncomfort view touch darker side\n"
     ]
    }
   ],
   "source": [
    "# Preprocessing \n",
    "# Text Cleaning\n",
    "\n",
    "def preprocess(review):\n",
    "    # step-1: Remove special characters\n",
    "    review = BeautifulSoup(review).get_text()\n",
    "    regex = re.compile('[^a-zA-Z]')\n",
    "    review = regex.sub(' ', review)\n",
    "    # step-2: Lower all the letters\n",
    "    review = review.lower()\n",
    "    # step-3: Remove the stopwords and stem \n",
    "    review = \" \".join(ps.stem(word) for word in review.split() if word not in stopwords)\n",
    "    return(review)\n",
    "\n",
    "review = df.review[0]\n",
    "print(preprocess(review))\n",
    "\n",
    "# This process is only for 1 review"
   ]
  },
  {
   "attachments": {},
   "cell_type": "markdown",
   "metadata": {},
   "source": [
    "### Above, we see how a single review is transformed after preprocessing.\n",
    "- There are no punctuations and words, or sentences doesn't necessarily mean anything.\n",
    "\n",
    "### Now we will apply the same preprocessing function to all the reviews."
   ]
  },
  {
   "cell_type": "code",
   "execution_count": 34,
   "metadata": {},
   "outputs": [
    {
     "data": {
      "text/plain": [
       "<bound method NDFrame.head of                                                   review sentiment\n",
       "0      review mention oz episod hook right exactli ha...  positive\n",
       "1      wonder product techniqu unassum old bbc fashio...  positive\n",
       "2      thought wonder spend hot summer weekend sit ai...  positive\n",
       "3      basic famili boy jake zombi closet parent figh...  negative\n",
       "4      petter mattei love money visual stun mr mattei...  positive\n",
       "...                                                  ...       ...\n",
       "49995  thought right job creativ origin expect whole ...  positive\n",
       "49996  bad plot bad dialogu bad idiot direct annoy po...  negative\n",
       "49997  cathol taught parochi elementari school nun ta...  negative\n",
       "49998  disagr previou comment side maltin second rate...  negative\n",
       "49999  expect star trek high art fan expect best epis...  negative\n",
       "\n",
       "[49573 rows x 2 columns]>"
      ]
     },
     "execution_count": 34,
     "metadata": {},
     "output_type": "execute_result"
    }
   ],
   "source": [
    "# Apply preprocessing to all the reviews\n",
    "\n",
    "df['review'] = df['review'].map(lambda x: preprocess(x))\n",
    "df.head\n",
    "\n",
    "# Time_Taken = 1 minute 30 seconds"
   ]
  },
  {
   "attachments": {},
   "cell_type": "markdown",
   "metadata": {},
   "source": [
    "### Distribution of most common terms in each label."
   ]
  },
  {
   "cell_type": "code",
   "execution_count": 35,
   "metadata": {},
   "outputs": [
    {
     "data": {
      "image/png": "[encoded data removed]",
      "text/plain": [
       "<Figure size 720x432 with 1 Axes>"
      ]
     },
     "metadata": {
      "needs_background": "light"
     },
     "output_type": "display_data"
    },
    {
     "data": {
      "image/png": "[encoded data removed]",
      "text/plain": [
       "<Figure size 720x432 with 1 Axes>"
      ]
     },
     "metadata": {
      "needs_background": "light"
     },
     "output_type": "display_data"
    }
   ],
   "source": [
    "# Positive reviews ---\n",
    "\n",
    "df_pos = df.loc[df['sentiment'] == 'positive']\n",
    "pos = ' '.join(df_pos.review).split()\n",
    "\n",
    "# Get most common 30 term's counts into a dataframe\n",
    "\n",
    "pos_term_freq = pd.DataFrame(Counter(pos).most_common(30), columns=['term', 'count'])\n",
    "\n",
    "# Plot positive term frequencies\n",
    "\n",
    "fig, ax = plt.subplots(figsize=(10, 6))\n",
    "pos_term_freq.sort_values(by='count').plot.barh( x='term', y='count', ax=ax, color=\"green\")\n",
    "ax.set_title(\"Term frequency of positive reviews\")\n",
    "plt.show()\n",
    "\n",
    "# Negative reviews ---\n",
    "\n",
    "df_neg = df.loc[df['sentiment'] == 'negative']\n",
    "neg = ' '.join(df_neg.review).split()\n",
    "\n",
    "# Get most common 30 term's counts into a dataframe\n",
    "\n",
    "neg_term_freq = pd.DataFrame(Counter(neg).most_common(30), columns=['term', 'count'])\n",
    "\n",
    "# Plot negative term frequencies\n",
    "\n",
    "fig, ax = plt.subplots(figsize=(10, 6))\n",
    "neg_term_freq.sort_values(by='count').plot.barh( x='term', y='count', ax=ax, color=\"purple\")\n",
    "ax.set_title(\"Term frequency of negative reviews\")\n",
    "plt.show()"
   ]
  },
  {
   "cell_type": "code",
   "execution_count": 37,
   "metadata": {},
   "outputs": [
    {
     "name": "stdout",
     "output_type": "stream",
     "text": [
      "\n",
      "The number of terms that occurred in both sentiments top 30 terms: 19\n"
     ]
    }
   ],
   "source": [
    "# Find the number of terms that occurred in both sentiments\n",
    "\n",
    "common_terms = set(pos_term_freq.term) & set(neg_term_freq.term)\n",
    "print('\\nThe number of terms that occurred in both sentiments top 30 terms:', len(common_terms))"
   ]
  },
  {
   "cell_type": "code",
   "execution_count": 38,
   "metadata": {},
   "outputs": [],
   "source": [
    "# Remove common terms for 1 review\n",
    "\n",
    "def remove_common(review):\n",
    "    return(\" \".join(word for word in review.split() if word not in common_terms))\n",
    "\n",
    "df['review'] = df['review'].map(lambda x: remove_common(x))"
   ]
  },
  {
   "cell_type": "code",
   "execution_count": 39,
   "metadata": {},
   "outputs": [
    {
     "name": "stdout",
     "output_type": "stream",
     "text": [
      "\n",
      "Total Word-Count: 4586945\n",
      "Total number of unique terms: 69949\n"
     ]
    }
   ],
   "source": [
    "# Remove common terms for all the reviews\n",
    "\n",
    "print('\\nTotal Word-Count:', df['review'].apply(lambda x: len(x.split(' '))).sum())\n",
    "all_terms = ' '.join(df.review).split()\n",
    "print('Total number of unique terms:', len(set(all_terms)) )"
   ]
  },
  {
   "attachments": {},
   "cell_type": "markdown",
   "metadata": {},
   "source": [
    "# 2. Modelling\n",
    "- In this section we will compare two common text classification algorithms:\n",
    "    * Naive Bayes as nb\n",
    "    * Logistic Regression as logreg\n",
    "<br>\n",
    "<br>\n",
    "- We will also tune the hyper-parameters via Gridsearch and compare both models with their best parameters. \n",
    "<br>\n",
    "\n",
    "- At first, We start with splitting the dataset into 'Training' and 'Test' sets.\n",
    "    * Splitting the data into 80:20 ratio."
   ]
  },
  {
   "cell_type": "code",
   "execution_count": 41,
   "metadata": {},
   "outputs": [
    {
     "name": "stdout",
     "output_type": "stream",
     "text": [
      "\n",
      "Size of Training set:  39658\n",
      "Size of Test set:  9915\n"
     ]
    }
   ],
   "source": [
    "# Train-Test Split\n",
    " \n",
    "X = df.review\n",
    "y = df.sentiment\n",
    "\n",
    "# At 0.2 means 20%\n",
    "\n",
    "X_train, X_test, y_train, y_test = train_test_split(X, y, test_size=0.2, stratify=y, random_state = 42)\n",
    "\n",
    "print('\\nSize of Training set: ',len(X_train))\n",
    "print('Size of Test set: ',len(X_test))"
   ]
  },
  {
   "attachments": {},
   "cell_type": "markdown",
   "metadata": {},
   "source": [
    "### Now we will train both models initially with training set."
   ]
  },
  {
   "attachments": {},
   "cell_type": "markdown",
   "metadata": {},
   "source": [
    "## i) Naive Bayes as nb "
   ]
  },
  {
   "cell_type": "code",
   "execution_count": 42,
   "metadata": {},
   "outputs": [
    {
     "name": "stdout",
     "output_type": "stream",
     "text": [
      "Best Score: 0.8512026182195573\n"
     ]
    }
   ],
   "source": [
    "nb = Pipeline([('vect', TfidfVectorizer(max_features=5000)), \n",
    "                ('clf', MultinomialNB())])\n",
    " \n",
    "nb.fit(X_train, y_train)\n",
    "\n",
    "# Tunning of Naive Bayes Classifier\n",
    "\n",
    "param={'clf__alpha': [0.00001, 0.0001, 0.001, 0.1, 1, 10, 100,1000]}\n",
    "gs_nb = GridSearchCV(nb,param,scoring='accuracy',cv=10)\n",
    "gs_nb.fit(X_train, y_train)\n",
    "\n",
    "print('\\nBest Score:', gs_nb.best_score_)\n",
    "#print('Best alpha:', gs_nb.best_params_)\n",
    "\n",
    "# Time_Taken = 4 minutes 20 seconds"
   ]
  },
  {
   "attachments": {},
   "cell_type": "markdown",
   "metadata": {},
   "source": [
    "## ii) Logistic Regression as logreg"
   ]
  },
  {
   "cell_type": "code",
   "execution_count": 43,
   "metadata": {},
   "outputs": [
    {
     "name": "stdout",
     "output_type": "stream",
     "text": [
      "\n",
      "Best score: 0.8814109845413632\n"
     ]
    }
   ],
   "source": [
    "# Logistic Regression as logreg\n",
    "\n",
    "logreg = Pipeline([('vect', TfidfVectorizer(max_features=5000)), \n",
    "                   ('clf', LogisticRegression())])\n",
    " \n",
    "logreg.fit(X_train, y_train)\n",
    "\n",
    "# Tunning of hyper-parameters of Logistic Regression Classifier\n",
    "\n",
    "param= {'clf__solver': ['newton-cg', 'lbfgs', 'liblinear'],\n",
    "        'clf__penalty': ['l1', 'l2'],\n",
    "        'clf__C': [1e-5, 1e-4, 1e-3, 1e-2, 1e-1, 1, 10, 100]}\n",
    "gs_logreg = GridSearchCV(logreg,param,scoring='accuracy',cv=10)\n",
    "gs_logreg.fit(X_train, y_train)\n",
    "\n",
    "print('\\nBest Score:', gs_logreg.best_score_)\n",
    "#print('Best parameters:', gs_logreg.best_params_)\n",
    "\n",
    "# Time_Taken = 28 minutes 25 seconds"
   ]
  },
  {
   "attachments": {},
   "cell_type": "markdown",
   "metadata": {},
   "source": [
    "> Best Score of NB = 85.12 %\n",
    "\n",
    "> Best Score of LR = 88.14 %"
   ]
  },
  {
   "attachments": {},
   "cell_type": "markdown",
   "metadata": {},
   "source": [
    "## 3. Results  \n",
    "- We can see the training and test set accuracies of both models in the following.\n",
    "- Also test accuracies are slightly less than training accuracies because of tunning."
   ]
  },
  {
   "cell_type": "code",
   "execution_count": 44,
   "metadata": {},
   "outputs": [
    {
     "name": "stdout",
     "output_type": "stream",
     "text": [
      "Training Accuracy of Naive Bayes: 0.86\n",
      "Test Accuracy of Naive Bayes: 0.848\n",
      "\n",
      "\n",
      "Training Accuracy of Logistic Regression: 0.908\n",
      "Test Accuracy of Logistic Regression: 0.875\n"
     ]
    }
   ],
   "source": [
    "# Results of Naive Bayes:\n",
    "\n",
    "print('Training Accuracy of Naive Bayes:', round(accuracy_score(y_train, gs_nb.predict(X_train)),3))\n",
    "print('Test Accuracy of Naive Bayes:', round(accuracy_score(y_test, gs_nb.predict(X_test)),3))\n",
    "\n",
    "print('\\n')\n",
    "\n",
    "# Results of Logistic Regression:\n",
    "\n",
    "print('Training Accuracy of Logistic Regression:', round(accuracy_score(y_train, gs_logreg.predict(X_train)),3))\n",
    "print('Test Accuracy of Logistic Regression:', round(accuracy_score(y_test, gs_logreg.predict(X_test)),3))"
   ]
  },
  {
   "attachments": {},
   "cell_type": "markdown",
   "metadata": {},
   "source": [
    "Hence,\n",
    "- Accuracy of Logistic Regression is 0.908 compared to 0.857 accuracy on the test set.\n",
    "<br>\n",
    "<br>\n",
    "- Accuracy of Naive Bayes is 0.86 compared to 0.848 accuracy on the test set.\n",
    "\n",
    "### So, this conclude that Logistic Regression has maximum accuracy."
   ]
  }
 ],
 "metadata": {
  "kernelspec": {
   "display_name": "base",
   "language": "python",
   "name": "python3"
  },
  "language_info": {
   "codemirror_mode": {
    "name": "ipython",
    "version": 3
   },
   "file_extension": ".py",
   "mimetype": "text/x-python",
   "name": "python",
   "nbconvert_exporter": "python",
   "pygments_lexer": "ipython3",
   "version": "3.9.12"
  },
  "orig_nbformat": 4,
  "vscode": {
   "interpreter": {
    "hash": "6227bc2a0da4b6332b0a6a7c890cf5ed38a9ee75aed5e5bd7ea7fa5b5706610d"
   }
  }
 },
 "nbformat": 4,
 "nbformat_minor": 2
}
